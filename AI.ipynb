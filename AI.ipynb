{
 "cells": [
  {
   "cell_type": "markdown",
   "metadata": {},
   "source": [
    "## Indoor Positioning System\n",
    "    In this notebook, we will see how to train an artificial neural network (ANN) using a PyTorch model. We will follow this procedure:\n",
    "\n",
    "- Import the necessary modules\n",
    "- Check if we have a graphics card and load the model onto it; this helps improve performance\n",
    "- Load the data\n",
    "- Check if we need to clean the data\n",
    "- Divide the dataset into training and testing sets\n",
    "- Create the ANN\n",
    "- Start the training\n",
    "- Start the testing\n",
    "- Compare testing results with predictions"
   ]
  },
  {
   "cell_type": "markdown",
   "metadata": {},
   "source": [
    "### We start importing the modules"
   ]
  },
  {
   "cell_type": "code",
   "execution_count": 2,
   "metadata": {},
   "outputs": [
    {
     "data": {
      "text/plain": [
       "'2.2.1+cu121'"
      ]
     },
     "execution_count": 2,
     "metadata": {},
     "output_type": "execute_result"
    }
   ],
   "source": [
    "import pandas as pd\n",
    "import torch\n",
    "from torch import nn\n",
    "import torch.optim as optim\n",
    "from torch.utils.data import DataLoader, TensorDataset\n",
    "from sklearn.model_selection import train_test_split\n",
    "import matplotlib.pyplot as plt\n",
    "import numpy as np\n",
    "from scipy import stats\n",
    "from pathlib import Path\n",
    "\n",
    "# Check PyTorch version\n",
    "torch.__version__"
   ]
  },
  {
   "cell_type": "markdown",
   "metadata": {},
   "source": [
    "### Start Setting the acces to the GPU if we have one installed"
   ]
  },
  {
   "cell_type": "code",
   "execution_count": 3,
   "metadata": {},
   "outputs": [
    {
     "name": "stdout",
     "output_type": "stream",
     "text": [
      "Using device: cuda\n"
     ]
    }
   ],
   "source": [
    "# Detup device agnostic code\n",
    "device = \"cuda\" if torch.cuda.is_available() else \"cpu\"\n",
    "print(f\"Using device: {device}\")"
   ]
  },
  {
   "cell_type": "markdown",
   "metadata": {},
   "source": [
    "### Loading Data"
   ]
  },
  {
   "cell_type": "code",
   "execution_count": 4,
   "metadata": {},
   "outputs": [
    {
     "data": {
      "text/html": [
       "<div>\n",
       "<style scoped>\n",
       "    .dataframe tbody tr th:only-of-type {\n",
       "        vertical-align: middle;\n",
       "    }\n",
       "\n",
       "    .dataframe tbody tr th {\n",
       "        vertical-align: top;\n",
       "    }\n",
       "\n",
       "    .dataframe thead th {\n",
       "        text-align: right;\n",
       "    }\n",
       "</style>\n",
       "<table border=\"1\" class=\"dataframe\">\n",
       "  <thead>\n",
       "    <tr style=\"text-align: right;\">\n",
       "      <th></th>\n",
       "      <th>rssi</th>\n",
       "      <th>distance</th>\n",
       "    </tr>\n",
       "  </thead>\n",
       "  <tbody>\n",
       "    <tr>\n",
       "      <th>0</th>\n",
       "      <td>-41</td>\n",
       "      <td>3.0</td>\n",
       "    </tr>\n",
       "    <tr>\n",
       "      <th>1</th>\n",
       "      <td>-40</td>\n",
       "      <td>3.5</td>\n",
       "    </tr>\n",
       "    <tr>\n",
       "      <th>2</th>\n",
       "      <td>-48</td>\n",
       "      <td>4.5</td>\n",
       "    </tr>\n",
       "    <tr>\n",
       "      <th>3</th>\n",
       "      <td>-38</td>\n",
       "      <td>4.0</td>\n",
       "    </tr>\n",
       "    <tr>\n",
       "      <th>4</th>\n",
       "      <td>-41</td>\n",
       "      <td>5.0</td>\n",
       "    </tr>\n",
       "    <tr>\n",
       "      <th>...</th>\n",
       "      <td>...</td>\n",
       "      <td>...</td>\n",
       "    </tr>\n",
       "    <tr>\n",
       "      <th>5495</th>\n",
       "      <td>-40</td>\n",
       "      <td>3.5</td>\n",
       "    </tr>\n",
       "    <tr>\n",
       "      <th>5496</th>\n",
       "      <td>-38</td>\n",
       "      <td>4.0</td>\n",
       "    </tr>\n",
       "    <tr>\n",
       "      <th>5497</th>\n",
       "      <td>-47</td>\n",
       "      <td>4.5</td>\n",
       "    </tr>\n",
       "    <tr>\n",
       "      <th>5498</th>\n",
       "      <td>-40</td>\n",
       "      <td>3.5</td>\n",
       "    </tr>\n",
       "    <tr>\n",
       "      <th>5499</th>\n",
       "      <td>-40</td>\n",
       "      <td>3.0</td>\n",
       "    </tr>\n",
       "  </tbody>\n",
       "</table>\n",
       "<p>5500 rows × 2 columns</p>\n",
       "</div>"
      ],
      "text/plain": [
       "      rssi  distance\n",
       "0      -41       3.0\n",
       "1      -40       3.5\n",
       "2      -48       4.5\n",
       "3      -38       4.0\n",
       "4      -41       5.0\n",
       "...    ...       ...\n",
       "5495   -40       3.5\n",
       "5496   -38       4.0\n",
       "5497   -47       4.5\n",
       "5498   -40       3.5\n",
       "5499   -40       3.0\n",
       "\n",
       "[5500 rows x 2 columns]"
      ]
     },
     "execution_count": 4,
     "metadata": {},
     "output_type": "execute_result"
    }
   ],
   "source": [
    "dataset = pd.DataFrame()\n",
    "\n",
    "\n",
    "for i in range(0, 11):\n",
    "    df = pd.read_csv(f\"distances_at_{i/2}m.csv\")\n",
    "\n",
    "    dataset = pd.concat([dataset, df])\n",
    "\n",
    "#Shuffle dataset, so we can normalize the data for split into train and test\n",
    "dataset = dataset.sample(n=len(dataset))\n",
    "\n",
    "dataset = dataset.reset_index(drop=True)\n",
    "dataset"
   ]
  },
  {
   "cell_type": "code",
   "execution_count": 5,
   "metadata": {},
   "outputs": [
    {
     "name": "stdout",
     "output_type": "stream",
     "text": [
      "<class 'pandas.core.frame.DataFrame'>\n",
      "RangeIndex: 5500 entries, 0 to 5499\n",
      "Data columns (total 2 columns):\n",
      " #   Column    Non-Null Count  Dtype  \n",
      "---  ------    --------------  -----  \n",
      " 0   rssi      5500 non-null   int64  \n",
      " 1   distance  5500 non-null   float64\n",
      "dtypes: float64(1), int64(1)\n",
      "memory usage: 86.1 KB\n"
     ]
    }
   ],
   "source": [
    "dataset.info()"
   ]
  },
  {
   "cell_type": "markdown",
   "metadata": {},
   "source": [
    "### Checking if we have Outliers"
   ]
  },
  {
   "cell_type": "code",
   "execution_count": 6,
   "metadata": {},
   "outputs": [
    {
     "name": "stdout",
     "output_type": "stream",
     "text": [
      "      rssi  distance\n",
      "469    -68       3.0\n",
      "1384   -18       0.0\n",
      "2241   -72       0.0\n",
      "3292   -57       4.5\n"
     ]
    }
   ],
   "source": [
    "# Calculate the z-score for each student's height\n",
    "z = np.abs(stats.zscore(dataset['rssi']))\n",
    "\n",
    "# Identify outliers as students with a z-score greater than 3\n",
    "threshold = 2.5\n",
    "outliers = dataset[z > threshold]\n",
    "\n",
    "# Print the outliers\n",
    "print(outliers)\n",
    "\n"
   ]
  },
  {
   "cell_type": "markdown",
   "metadata": {},
   "source": [
    "### Dropping Outliers on Dataset"
   ]
  },
  {
   "cell_type": "code",
   "execution_count": 7,
   "metadata": {},
   "outputs": [],
   "source": [
    "dataset = dataset.drop(outliers.index)"
   ]
  },
  {
   "cell_type": "markdown",
   "metadata": {},
   "source": [
    "### Convert data to torch tensor\n",
    "    Make sure the datatypes are equals"
   ]
  },
  {
   "cell_type": "code",
   "execution_count": 8,
   "metadata": {},
   "outputs": [
    {
     "name": "stdout",
     "output_type": "stream",
     "text": [
      "X: torch.int64 -- y: torch.float64\n"
     ]
    }
   ],
   "source": [
    "X = torch.from_numpy(dataset.rssi.to_numpy())\n",
    "y = torch.from_numpy(dataset.distance.to_numpy())\n",
    "\n",
    "print(f'X: {X.dtype} -- y: {y.dtype}')"
   ]
  },
  {
   "cell_type": "markdown",
   "metadata": {},
   "source": [
    "### Splitting into training and testing"
   ]
  },
  {
   "cell_type": "code",
   "execution_count": 9,
   "metadata": {},
   "outputs": [
    {
     "name": "stderr",
     "output_type": "stream",
     "text": [
      "C:\\Users\\saenz\\AppData\\Local\\Temp\\ipykernel_4164\\3331970048.py:4: UserWarning: To copy construct from a tensor, it is recommended to use sourceTensor.clone().detach() or sourceTensor.clone().detach().requires_grad_(True), rather than torch.tensor(sourceTensor).\n",
      "  X_train = torch.tensor(X_train, dtype=torch.float32)\n",
      "C:\\Users\\saenz\\AppData\\Local\\Temp\\ipykernel_4164\\3331970048.py:5: UserWarning: To copy construct from a tensor, it is recommended to use sourceTensor.clone().detach() or sourceTensor.clone().detach().requires_grad_(True), rather than torch.tensor(sourceTensor).\n",
      "  y_train = torch.tensor(y_train, dtype=torch.float32).view(-1, 1)\n",
      "C:\\Users\\saenz\\AppData\\Local\\Temp\\ipykernel_4164\\3331970048.py:6: UserWarning: To copy construct from a tensor, it is recommended to use sourceTensor.clone().detach() or sourceTensor.clone().detach().requires_grad_(True), rather than torch.tensor(sourceTensor).\n",
      "  X_test = torch.tensor(X_test, dtype=torch.float32)\n",
      "C:\\Users\\saenz\\AppData\\Local\\Temp\\ipykernel_4164\\3331970048.py:7: UserWarning: To copy construct from a tensor, it is recommended to use sourceTensor.clone().detach() or sourceTensor.clone().detach().requires_grad_(True), rather than torch.tensor(sourceTensor).\n",
      "  y_test = torch.tensor(y_test, dtype=torch.float32).view(-1, 1)\n"
     ]
    },
    {
     "data": {
      "text/plain": [
       "(4396, 4396, 1100, 1100)"
      ]
     },
     "execution_count": 9,
     "metadata": {},
     "output_type": "execute_result"
    }
   ],
   "source": [
    "X_train, X_test, y_train, y_test = train_test_split(X, y, test_size=0.2, random_state=42)\n",
    "\n",
    "# Convert to torch tensors\n",
    "X_train = torch.tensor(X_train, dtype=torch.float32)\n",
    "y_train = torch.tensor(y_train, dtype=torch.float32).view(-1, 1)\n",
    "X_test = torch.tensor(X_test, dtype=torch.float32)\n",
    "y_test = torch.tensor(y_test, dtype=torch.float32).view(-1, 1)\n",
    "\n",
    "len(X_train), len(y_train),len(X_test), len(y_test)"
   ]
  },
  {
   "cell_type": "code",
   "execution_count": 10,
   "metadata": {},
   "outputs": [
    {
     "name": "stdout",
     "output_type": "stream",
     "text": [
      "Shape of X: torch.Size([5496])\n"
     ]
    }
   ],
   "source": [
    "print(\"Shape of X:\", X.shape)"
   ]
  },
  {
   "cell_type": "markdown",
   "metadata": {},
   "source": [
    "### Creating a function to plot the results"
   ]
  },
  {
   "cell_type": "code",
   "execution_count": 11,
   "metadata": {},
   "outputs": [],
   "source": [
    "def plot_prediction(train_data=X_train,\n",
    "                    train_labels=y_train,\n",
    "                    test_data =X_test,\n",
    "                    test_labels=y_test,\n",
    "                    predictions=None):\n",
    "    plt.figure(figsize=(10,7))\n",
    "    plt.scatter(train_data, train_labels, c='b', s=4, label='Training data')\n",
    "    plt.scatter(test_data, test_labels, c='g', s=4, label='Training data')\n",
    "\n",
    "    if predictions is not None:\n",
    "        plt.scatter(test_data, predictions, c='r', s=4, label=\"Predictions\")\n",
    "\n",
    "    plt.legend(prop={'size':14})"
   ]
  },
  {
   "cell_type": "markdown",
   "metadata": {},
   "source": [
    "### Plotting the raw data "
   ]
  },
  {
   "cell_type": "code",
   "execution_count": 12,
   "metadata": {},
   "outputs": [
    {
     "data": {
      "image/png": "[encoded data removed]",
      "text/plain": [
       "<Figure size 1000x700 with 1 Axes>"
      ]
     },
     "metadata": {},
     "output_type": "display_data"
    }
   ],
   "source": [
    "plot_prediction()"
   ]
  },
  {
   "cell_type": "markdown",
   "metadata": {},
   "source": [
    "### Pytorch Model\n",
    "This is gonna be the Artifitial Neuronal Network "
   ]
  },
  {
   "cell_type": "code",
   "execution_count": 13,
   "metadata": {},
   "outputs": [],
   "source": [
    "class RSSIToDistanceModel(nn.Module):\n",
    "    def __init__(self):\n",
    "        super(RSSIToDistanceModel, self).__init__()\n",
    "        self.fc1 = nn.Linear(1, 64)  # Input layer (1 feature: RSSI)\n",
    "        self.fc2 = nn.Linear(64, 128)  # Hidden layer\n",
    "        self.fc3 = nn.Linear(128, 64)  # Another hidden layer\n",
    "        self.fc4 = nn.Linear(64, 1)   # Output layer (1 value: distance)\n",
    "        \n",
    "    def forward(self, x):\n",
    "        x = torch.relu(self.fc1(x))\n",
    "        x = torch.relu(self.fc2(x))\n",
    "        x = torch.relu(self.fc3(x))\n",
    "        x = self.fc4(x)  # No activation on the output for regression\n",
    "        return x"
   ]
  },
  {
   "cell_type": "code",
   "execution_count": 14,
   "metadata": {},
   "outputs": [],
   "source": [
    "#Create random seed\n",
    "torch.manual_seed(42)\n",
    "\n",
    "# Create an instance\n",
    "\n",
    "model = RSSIToDistanceModel().float()  # Use float32\n",
    "#list(model.parameters())"
   ]
  },
  {
   "cell_type": "code",
   "execution_count": 15,
   "metadata": {},
   "outputs": [],
   "source": [
    "# List named parameters\n",
    "#model.state_dict()"
   ]
  },
  {
   "cell_type": "code",
   "execution_count": 16,
   "metadata": {},
   "outputs": [
    {
     "data": {
      "text/plain": [
       "device(type='cpu')"
      ]
     },
     "execution_count": 16,
     "metadata": {},
     "output_type": "execute_result"
    }
   ],
   "source": [
    "# Check the model current device\n",
    "next(model.parameters()).device"
   ]
  },
  {
   "cell_type": "markdown",
   "metadata": {},
   "source": [
    "## After generate the model we move this model to a GPU just if we have one "
   ]
  },
  {
   "cell_type": "code",
   "execution_count": 17,
   "metadata": {},
   "outputs": [
    {
     "data": {
      "text/plain": [
       "device(type='cuda', index=0)"
      ]
     },
     "execution_count": 17,
     "metadata": {},
     "output_type": "execute_result"
    }
   ],
   "source": [
    "# Set the model to use the target device\n",
    "model.to(device)\n",
    "next(model.parameters()).device"
   ]
  },
  {
   "cell_type": "markdown",
   "metadata": {},
   "source": [
    "### Training\n",
    "For training we need:\n",
    "* Loss function\n",
    "* Optimizer\n",
    "* Training loop\n",
    "* Testing loop"
   ]
  },
  {
   "cell_type": "code",
   "execution_count": 18,
   "metadata": {},
   "outputs": [],
   "source": [
    "# Setup loss function\n",
    "loss_fn = nn.MSELoss() #same as MAE\n",
    "\n",
    "#Setup our optimizer\n",
    "optimizer = optim.Adam(model.parameters(), lr=0.0001)"
   ]
  },
  {
   "cell_type": "code",
   "execution_count": 19,
   "metadata": {},
   "outputs": [
    {
     "name": "stdout",
     "output_type": "stream",
     "text": [
      "Epoch [1/100], Loss: 3.29950\n",
      "Epoch [2/100], Loss: 1.35099\n",
      "Epoch [3/100], Loss: 1.34864\n",
      "Epoch [4/100], Loss: 1.34501\n",
      "Epoch [5/100], Loss: 1.33370\n",
      "Epoch [6/100], Loss: 1.32898\n",
      "Epoch [7/100], Loss: 1.32253\n",
      "Epoch [8/100], Loss: 1.31075\n",
      "Epoch [9/100], Loss: 1.30371\n",
      "Epoch [10/100], Loss: 1.29038\n",
      "Epoch [11/100], Loss: 1.28233\n",
      "Epoch [12/100], Loss: 1.26819\n",
      "Epoch [13/100], Loss: 1.25194\n",
      "Epoch [14/100], Loss: 1.23364\n",
      "Epoch [15/100], Loss: 1.21567\n",
      "Epoch [16/100], Loss: 1.19339\n",
      "Epoch [17/100], Loss: 1.16745\n",
      "Epoch [18/100], Loss: 1.13022\n",
      "Epoch [19/100], Loss: 1.09494\n",
      "Epoch [20/100], Loss: 1.05737\n",
      "Epoch [21/100], Loss: 1.03265\n",
      "Epoch [22/100], Loss: 0.97524\n",
      "Epoch [23/100], Loss: 0.93143\n",
      "Epoch [24/100], Loss: 0.89208\n",
      "Epoch [25/100], Loss: 0.84839\n",
      "Epoch [26/100], Loss: 0.80718\n",
      "Epoch [27/100], Loss: 0.76216\n",
      "Epoch [28/100], Loss: 0.72856\n",
      "Epoch [29/100], Loss: 0.70102\n",
      "Epoch [30/100], Loss: 0.67276\n",
      "Epoch [31/100], Loss: 0.66312\n",
      "Epoch [32/100], Loss: 0.63974\n",
      "Epoch [33/100], Loss: 0.63071\n",
      "Epoch [34/100], Loss: 0.61585\n",
      "Epoch [35/100], Loss: 0.60167\n",
      "Epoch [36/100], Loss: 0.60197\n",
      "Epoch [37/100], Loss: 0.58268\n",
      "Epoch [38/100], Loss: 0.58903\n",
      "Epoch [39/100], Loss: 0.58454\n",
      "Epoch [40/100], Loss: 0.57011\n",
      "Epoch [41/100], Loss: 0.57470\n",
      "Epoch [42/100], Loss: 0.57086\n",
      "Epoch [43/100], Loss: 0.56287\n",
      "Epoch [44/100], Loss: 0.57224\n",
      "Epoch [45/100], Loss: 0.56193\n",
      "Epoch [46/100], Loss: 0.56367\n",
      "Epoch [47/100], Loss: 0.56562\n",
      "Epoch [48/100], Loss: 0.55827\n",
      "Epoch [49/100], Loss: 0.55594\n",
      "Epoch [50/100], Loss: 0.56133\n",
      "Epoch [51/100], Loss: 0.55488\n",
      "Epoch [52/100], Loss: 0.55826\n",
      "Epoch [53/100], Loss: 0.56390\n",
      "Epoch [54/100], Loss: 0.54556\n",
      "Epoch [55/100], Loss: 0.54694\n",
      "Epoch [56/100], Loss: 0.55090\n",
      "Epoch [57/100], Loss: 0.54472\n",
      "Epoch [58/100], Loss: 0.55016\n",
      "Epoch [59/100], Loss: 0.54198\n",
      "Epoch [60/100], Loss: 0.54756\n",
      "Epoch [61/100], Loss: 0.54485\n",
      "Epoch [62/100], Loss: 0.54071\n",
      "Epoch [63/100], Loss: 0.53663\n",
      "Epoch [64/100], Loss: 0.54727\n",
      "Epoch [65/100], Loss: 0.53870\n",
      "Epoch [66/100], Loss: 0.53750\n",
      "Epoch [67/100], Loss: 0.53390\n",
      "Epoch [68/100], Loss: 0.53244\n",
      "Epoch [69/100], Loss: 0.52610\n",
      "Epoch [70/100], Loss: 0.52414\n",
      "Epoch [71/100], Loss: 0.54670\n",
      "Epoch [72/100], Loss: 0.53289\n",
      "Epoch [73/100], Loss: 0.53480\n",
      "Epoch [74/100], Loss: 0.53570\n",
      "Epoch [75/100], Loss: 0.52037\n",
      "Epoch [76/100], Loss: 0.53688\n",
      "Epoch [77/100], Loss: 0.52845\n",
      "Epoch [78/100], Loss: 0.51614\n",
      "Epoch [79/100], Loss: 0.52160\n",
      "Epoch [80/100], Loss: 0.52021\n",
      "Epoch [81/100], Loss: 0.51505\n",
      "Epoch [82/100], Loss: 0.52035\n",
      "Epoch [83/100], Loss: 0.50698\n",
      "Epoch [84/100], Loss: 0.52062\n",
      "Epoch [85/100], Loss: 0.51333\n",
      "Epoch [86/100], Loss: 0.51804\n",
      "Epoch [87/100], Loss: 0.51905\n",
      "Epoch [88/100], Loss: 0.50926\n",
      "Epoch [89/100], Loss: 0.51676\n",
      "Epoch [90/100], Loss: 0.50302\n",
      "Epoch [91/100], Loss: 0.49708\n",
      "Epoch [92/100], Loss: 0.49671\n",
      "Epoch [93/100], Loss: 0.49477\n",
      "Epoch [94/100], Loss: 0.50082\n",
      "Epoch [95/100], Loss: 0.49477\n",
      "Epoch [96/100], Loss: 0.49120\n",
      "Epoch [97/100], Loss: 0.49381\n",
      "Epoch [98/100], Loss: 0.48833\n",
      "Epoch [99/100], Loss: 0.49057\n",
      "Epoch [100/100], Loss: 0.48778\n"
     ]
    }
   ],
   "source": [
    "# Let's write a training loop\n",
    "torch.manual_seed(42)\n",
    "\n",
    "batch_size = 32\n",
    "\n",
    "# Create datasets and DataLoaders\n",
    "train_dataset = TensorDataset(X_train.clone().detach().view(-1, 1).to(torch.float32), y_train.clone().detach())\n",
    "test_dataset = TensorDataset(X_test.clone().detach().view(-1, 1).to(torch.float32), y_test.clone().detach())\n",
    "\n",
    "\n",
    "train_loader = DataLoader(train_dataset, batch_size=32, shuffle=True)\n",
    "test_loader = DataLoader(test_dataset, batch_size=32, shuffle=False)\n",
    "\n",
    "# Training loop\n",
    "epochs = 100\n",
    "for epoch in range(epochs):\n",
    "    model.train()  # Training mode\n",
    "    running_loss = 0.0\n",
    "    \n",
    "    for rssi_batch, distance_batch in train_loader:\n",
    "\n",
    "        rssi_batch = rssi_batch.to(device)\n",
    "        distance_batch = distance_batch.to(device)\n",
    "        \n",
    "        optimizer.zero_grad()\n",
    "        outputs = model(rssi_batch)\n",
    "        loss = loss_fn(outputs, distance_batch)\n",
    "        loss.backward()\n",
    "        optimizer.step()\n",
    "        \n",
    "        running_loss += loss.item()\n",
    "    \n",
    "    print(f'Epoch [{epoch+1}/{epochs}], Loss: {running_loss/len(train_loader):.5f}')\n",
    "\n"
   ]
  },
  {
   "cell_type": "markdown",
   "metadata": {},
   "source": [
    "### Testing"
   ]
  },
  {
   "cell_type": "code",
   "execution_count": 20,
   "metadata": {},
   "outputs": [
    {
     "name": "stdout",
     "output_type": "stream",
     "text": [
      "Test Loss: 0.4307\n",
      "Predictions shape: torch.Size([1100, 1])\n"
     ]
    }
   ],
   "source": [
    "test_dataset = TensorDataset(X_test.clone().detach().view(-1, 1).to(torch.float32), y_test.clone().detach())\n",
    "test_loader = DataLoader(test_dataset, batch_size=32, shuffle=False)\n",
    "\n",
    "#Prepare to store the predicted values \n",
    "predictions = []\n",
    "\n",
    "model.eval()  # Set the model to evaluation mode\n",
    "\n",
    "test_loss = 0.0\n",
    "with torch.inference_mode():  # No need to calculate gradients during testing\n",
    "    for rssi_batch, distance_batch in test_loader:\n",
    "        # Move data to GPU if available\n",
    "        rssi_batch = rssi_batch.to(device)\n",
    "        distance_batch = distance_batch.to(device)\n",
    "        \n",
    "        # Forward pass\n",
    "        outputs = model(rssi_batch)\n",
    "        loss = loss_fn(outputs, distance_batch)\n",
    "        \n",
    "        test_loss += loss.item()\n",
    "\n",
    "        predictions.append(outputs.cpu())\n",
    "\n",
    "# Print test loss\n",
    "print(f'Test Loss: {test_loss / len(test_loader):.4f}')\n",
    "\n",
    "# Concatenate all the predictions into a single tensor\n",
    "predictions = torch.cat(predictions, dim=0)\n",
    "\n",
    "# Optional: Convert predictions to numpy array if needed\n",
    "predictions_numpy = predictions.numpy()\n",
    "\n",
    "# Now `predictions` contains the predicted values for the test set\n",
    "print(\"Predictions shape:\", predictions.shape)  # Should be [number_of_test_samples, 1]"
   ]
  },
  {
   "cell_type": "code",
   "execution_count": 21,
   "metadata": {},
   "outputs": [
    {
     "name": "stdout",
     "output_type": "stream",
     "text": [
      "tensor([1.9244], device='cuda:0')\n"
     ]
    }
   ],
   "source": [
    "model.eval()\n",
    "\n",
    "value = [-34]\n",
    "value = torch.tensor(value, dtype=torch.float32)\n",
    "value\n",
    "with torch.inference_mode():\n",
    "    test = model(value.to(device))\n",
    "\n",
    "print(test)"
   ]
  },
  {
   "cell_type": "code",
   "execution_count": 22,
   "metadata": {},
   "outputs": [
    {
     "data": {
      "image/png": "[encoded data removed]",
      "text/plain": [
       "<Figure size 1000x700 with 1 Axes>"
      ]
     },
     "metadata": {},
     "output_type": "display_data"
    }
   ],
   "source": [
    "plot_prediction(predictions=predictions)"
   ]
  },
  {
   "cell_type": "code",
   "execution_count": 23,
   "metadata": {},
   "outputs": [
    {
     "data": {
      "text/plain": [
       "<matplotlib.legend.Legend at 0x1d0a22c9f10>"
      ]
     },
     "execution_count": 23,
     "metadata": {},
     "output_type": "execute_result"
    },
    {
     "data": {
      "image/png": "[encoded data removed]",
      "text/plain": [
       "<Figure size 1000x700 with 1 Axes>"
      ]
     },
     "metadata": {},
     "output_type": "display_data"
    }
   ],
   "source": [
    "plt.figure(figsize=(10,7))\n",
    "plt.scatter(X_test.cpu(), y_test, c='g', s=4, label='Training data')\n",
    "plt.scatter(X_test.cpu(), predictions, c='r', s=4, label=\"Predictions\")\n",
    "\n",
    "plt.legend(prop={'size':14})"
   ]
  },
  {
   "cell_type": "code",
   "execution_count": 24,
   "metadata": {},
   "outputs": [
    {
     "name": "stdout",
     "output_type": "stream",
     "text": [
      "tensor([-38., -37., -29.,  ..., -35., -31., -39.]) tensor([[2.9797],\n",
      "        [2.7159],\n",
      "        [0.9001],\n",
      "        ...,\n",
      "        [2.1882],\n",
      "        [1.2417],\n",
      "        [3.2436]])\n"
     ]
    }
   ],
   "source": [
    "print(X_test, predictions)"
   ]
  }
 ],
 "metadata": {
  "kernelspec": {
   "display_name": "Python 3",
   "language": "python",
   "name": "python3"
  },
  "language_info": {
   "codemirror_mode": {
    "name": "ipython",
    "version": 3
   },
   "file_extension": ".py",
   "mimetype": "text/x-python",
   "name": "python",
   "nbconvert_exporter": "python",
   "pygments_lexer": "ipython3",
   "version": "3.11.3"
  }
 },
 "nbformat": 4,
 "nbformat_minor": 2
}
